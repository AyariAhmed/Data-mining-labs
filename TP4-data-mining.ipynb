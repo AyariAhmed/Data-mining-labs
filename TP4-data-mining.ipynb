{
 "cells": [
  {
   "cell_type": "code",
   "execution_count": null,
   "metadata": {},
   "outputs": [],
   "source": [
    "%pip install pandas\n",
    "%pip install sklearn\n",
    "%pip install matplotlib\n",
    "%pip install scipy\n"
   ]
  },
  {
   "cell_type": "markdown",
   "metadata": {},
   "source": [
    "### Working Data"
   ]
  },
  {
   "cell_type": "code",
   "execution_count": null,
   "metadata": {},
   "outputs": [],
   "source": [
    "import pandas as pd\n",
    "fromage=pd.read_table(r\"./fromage.txt\",sep=\"\\t\",header=0,index_col=0)\n",
    "print(fromage.describe())\n",
    "print('Dataset Shape:',fromage.shape)\n",
    "print(fromage)"
   ]
  },
  {
   "cell_type": "markdown",
   "metadata": {},
   "source": [
    "Given the dataset shape: we have 29 instances with 9 attributes,\n",
    "Attributes: calories, sodium, calcium, lipides, retinol, folates, proteines, cholesterol and magnesium"
   ]
  },
  {
   "cell_type": "code",
   "execution_count": null,
   "metadata": {},
   "outputs": [],
   "source": [
    "import matplotlib.pyplot as plt\n",
    "from pandas.plotting import scatter_matrix\n",
    "scatter_matrix(fromage, alpha=0.5,figsize=(9,9), diagonal='kde')\n",
    "plt.show()"
   ]
  },
  {
   "cell_type": "markdown",
   "metadata": {},
   "source": [
    "Attributes correlation (`scatter_matrix` analysis):\n",
    "- calories & cholesterol, calories & lipides, lipides & cholesterol are positively correlated, some of them could be omitted "
   ]
  },
  {
   "cell_type": "markdown",
   "metadata": {},
   "source": [
    "### K-means"
   ]
  },
  {
   "cell_type": "code",
   "execution_count": 51,
   "metadata": {},
   "outputs": [
    {
     "name": "stdout",
     "output_type": "stream",
     "text": [
      "[0 3 1 3 3 3 0 0 1 1 0 1 1 0 3 2 2 3 3 1 2 0 3 3 3 1 0 1 2]\n",
      "             Fromages\n",
      "0         CarredelEst\n",
      "0                Tome\n",
      "0         PontlEveque\n",
      "0           Chabichou\n",
      "0            Chaource\n",
      "0         Coulomniers\n",
      "0  Fr.chevrepatemolle\n",
      "1            Beaufort\n",
      "1         SaintPaulin\n",
      "1             Cheddar\n",
      "1               Comte\n",
      "1                Edam\n",
      "1            Emmental\n",
      "1            Vacherin\n",
      "1            Parmesan\n",
      "2       Petitsuisse40\n",
      "2  Yaourtlaitent.nat.\n",
      "2      Fr.frais20nat.\n",
      "2      Fr.frais40nat.\n",
      "3           Maroilles\n",
      "3             Morbier\n",
      "3              Cantal\n",
      "3           Camembert\n",
      "3            Pyrenees\n",
      "3           Reblochon\n",
      "3          Rocquefort\n",
      "3                Bleu\n",
      "3             Babybel\n",
      "3         Fr.fondu.45\n",
      "K-means transformation: [[123.59715669 285.36163076 384.27301005 145.46927992]\n",
      " [110.54651897 118.43379084 303.10311983  71.72681089]\n",
      " [235.25665316  56.72603293 349.91323389 218.1879268 ]\n",
      " [159.09984736 200.30401971 393.76898843  45.60922494]\n",
      " [141.19170858 210.31138298 332.43471728  84.66051854]\n",
      " [180.75982487 111.73150994 371.97076666  86.99931839]\n",
      " [ 72.0404549  182.80599775 298.65300308 170.2611917 ]\n",
      " [ 57.86280572 204.98823213 311.48990553 105.53037193]\n",
      " [156.41570984  92.26223665 348.48685233 159.88151676]\n",
      " [224.31195752  79.32509258 333.83554522 230.88643399]\n",
      " [ 39.94716153 204.4018782  285.29211565 155.61953412]\n",
      " [197.13338124  43.74211715 293.81905359 172.55995306]\n",
      " [289.57992728 102.59674855 343.1669947  273.3780741 ]\n",
      " [144.41931015 265.24828993 195.86579908 252.80069897]\n",
      " [164.74401355 271.72958122 400.47054979 101.45152241]\n",
      " [307.24796873 336.96303256  27.57918146 378.20198492]\n",
      " [286.92623741 330.65941362  48.43507252 376.38946771]\n",
      " [163.69886115 169.20512053 379.74839203  39.80348477]\n",
      " [137.46307556 146.31641334 360.87135     31.87791398]\n",
      " [247.92574637 127.37007228 405.05415842 157.0268493 ]\n",
      " [275.48594208 322.76561591  73.02996816 370.72406639]\n",
      " [ 66.39975258 145.61200264 273.9400961  103.74546448]\n",
      " [103.21034693 118.1602421  327.69454718  85.09362726]\n",
      " [106.4868939  149.56115075 323.02206001  41.96502591]\n",
      " [215.62761551 302.57210349 480.78906108 141.69363218]\n",
      " [163.61948015  93.47945128 289.74900561 120.31124386]\n",
      " [ 44.67517687 176.06769384 309.5039923   98.83002277]\n",
      " [158.9611408   63.47704556 263.14012664 168.16769428]\n",
      " [304.65582689 316.6232269  101.24362326 346.9503587 ]]\n",
      "Clusters Centers: [[297.85714286 239.78571429 103.84285714  24.91428571  83.92857143\n",
      "   23.05714286  18.97142857  71.42857143  21.71428571]\n",
      " [363.875      146.125      257.025       29.05        63.6\n",
      "    3.8625      26.5625      96.25        38.875     ]\n",
      " [101.75        44.75       133.75         6.275       55.15\n",
      "   16.475        7.2         18.25        11.25      ]\n",
      " [329.8        306.6        206.82        26.87        64.24\n",
      "   11.91        21.08        82.          27.4       ]]\n"
     ]
    }
   ],
   "source": [
    "import numpy as np\n",
    "from sklearn import cluster\n",
    "np.random.seed(0)\n",
    "kmeans = cluster.KMeans(n_clusters = 4)\n",
    "kmeans.fit(fromage)\n",
    "idk = np.argsort(kmeans.labels_)\n",
    "print(kmeans.labels_)\n",
    "print(pd.DataFrame(fromage.index[idk],kmeans.labels_[idk]))\n",
    "print('K-means transformation:',kmeans.transform(fromage))\n",
    "print(\"Clusters Centers:\",kmeans.cluster_centers_)"
   ]
  },
  {
   "cell_type": "markdown",
   "metadata": {},
   "source": [
    "#### Silhouette coefficient metric for K clusters: (`k-means model`)"
   ]
  },
  {
   "cell_type": "code",
   "execution_count": 50,
   "metadata": {},
   "outputs": [
    {
     "name": "stdout",
     "output_type": "stream",
     "text": [
      "Silhouette coefficient for each k [2..10] :\n",
      " [0.50681355 0.37299771 0.3369907  0.35737616 0.29518167 0.28892037\n",
      " 0.2381417  0.27113181 0.27957321]\n"
     ]
    },
    {
     "data": {
      "text/plain": [
       "<function matplotlib.pyplot.show(close=None, block=None)>"
      ]
     },
     "execution_count": 50,
     "metadata": {},
     "output_type": "execute_result"
    },
    {
     "data": {
      "image/png": "[encoded data removed]",
      "text/plain": [
       "<Figure size 432x288 with 1 Axes>"
      ]
     },
     "metadata": {
      "needs_background": "light"
     },
     "output_type": "display_data"
    }
   ],
   "source": [
    "from sklearn import metrics\n",
    "result = np.arange(9, dtype =\"double\")\n",
    "for k in np.arange(9):\n",
    "  km = cluster.KMeans(n_clusters = k+2)\n",
    "  km.fit(fromage)\n",
    "  result[k] = metrics.silhouette_score(fromage,km.labels_) # save \n",
    "\n",
    "print ('Silhouette coefficient for each k [2..10] :\\n',result)\n",
    "\n",
    "import matplotlib.pyplot as plt\n",
    "plt.title(\"silhouette\")\n",
    "plt.xlabel(\"K clusters\")\n",
    "plt.plot(np.arange(2,11,1),(result))\n",
    "plt.show"
   ]
  },
  {
   "cell_type": "markdown",
   "metadata": {},
   "source": [
    "Based on the results:\n",
    "- The closer the `Silhouette` to `1` the better the classification, then k=2 is the best number of clusters\n",
    "- The objective of classification is to have the most similar instances in a cluster, thus 2 clusters (k=2) can't be enough, so k=3 or k=5 would be the better fit."
   ]
  },
  {
   "cell_type": "markdown",
   "metadata": {},
   "source": [
    "### Agglomerative Hierarchical Clustering (CHA) using `scipy`"
   ]
  },
  {
   "cell_type": "code",
   "execution_count": 42,
   "metadata": {},
   "outputs": [
    {
     "data": {
      "image/png": "[encoded data removed]",
      "text/plain": [
       "<Figure size 432x288 with 1 Axes>"
      ]
     },
     "metadata": {
      "needs_background": "light"
     },
     "output_type": "display_data"
    },
    {
     "name": "stdout",
     "output_type": "stream",
     "text": [
      "[3 4 2 3 3 2 4 4 2 2 4 2 2 4 3 1 1 3 3 2 1 4 4 4 3 2 4 2 1]\n",
      "             Fromages\n",
      "1  Yaourtlaitent.nat.\n",
      "1       Petitsuisse40\n",
      "1      Fr.frais40nat.\n",
      "1      Fr.frais20nat.\n",
      "2         SaintPaulin\n",
      "2            Beaufort\n",
      "2              Cantal\n",
      "2            Parmesan\n",
      "2             Cheddar\n",
      "2               Comte\n",
      "2                Edam\n",
      "2            Emmental\n",
      "2            Vacherin\n",
      "3          Rocquefort\n",
      "3             Morbier\n",
      "3           Maroilles\n",
      "3         CarredelEst\n",
      "3           Camembert\n",
      "3                Bleu\n",
      "3         Fr.fondu.45\n",
      "4         Coulomniers\n",
      "4            Chaource\n",
      "4           Chabichou\n",
      "4         PontlEveque\n",
      "4            Pyrenees\n",
      "4           Reblochon\n",
      "4             Babybel\n",
      "4                Tome\n",
      "4  Fr.chevrepatemolle\n"
     ]
    }
   ],
   "source": [
    "import pandas\n",
    "import numpy as np\n",
    "#CAH Libraries\n",
    "from matplotlib import pyplot as plt\n",
    "from scipy.cluster.hierarchy import dendrogram, linkage, fcluster\n",
    "Z = linkage(fromage,method='ward', metric='euclidean')\n",
    "#Dendrogramme\n",
    "plt.title(\"CAH\")\n",
    "plt.title('CAH avec matérialisation des 4 classes')\n",
    "dendrogram(Z,labels=fromage.index,orientation='left',color_threshold=255)\n",
    "plt.show()\n",
    "groupes_cah = fcluster(Z, t = 255,criterion='distance')\n",
    "print(groupes_cah)\n",
    "#sorted groups indexes\n",
    "idg = np.argsort(groupes_cah)\n",
    "#display oberservations and their groups\n",
    "print(pandas.DataFrame(fromage.index[idg],groupes_cah[idg]))"
   ]
  },
  {
   "cell_type": "markdown",
   "metadata": {},
   "source": [
    "#### Correspondence between CAH groups and K-means groups"
   ]
  },
  {
   "cell_type": "code",
   "execution_count": 52,
   "metadata": {},
   "outputs": [
    {
     "data": {
      "text/html": [
       "<div>\n",
       "<style scoped>\n",
       "    .dataframe tbody tr th:only-of-type {\n",
       "        vertical-align: middle;\n",
       "    }\n",
       "\n",
       "    .dataframe tbody tr th {\n",
       "        vertical-align: top;\n",
       "    }\n",
       "\n",
       "    .dataframe thead th {\n",
       "        text-align: right;\n",
       "    }\n",
       "</style>\n",
       "<table border=\"1\" class=\"dataframe\">\n",
       "  <thead>\n",
       "    <tr style=\"text-align: right;\">\n",
       "      <th>col_0</th>\n",
       "      <th>1</th>\n",
       "      <th>2</th>\n",
       "      <th>3</th>\n",
       "      <th>4</th>\n",
       "    </tr>\n",
       "    <tr>\n",
       "      <th>row_0</th>\n",
       "      <th></th>\n",
       "      <th></th>\n",
       "      <th></th>\n",
       "      <th></th>\n",
       "    </tr>\n",
       "  </thead>\n",
       "  <tbody>\n",
       "    <tr>\n",
       "      <th>0</th>\n",
       "      <td>0</td>\n",
       "      <td>0</td>\n",
       "      <td>1</td>\n",
       "      <td>6</td>\n",
       "    </tr>\n",
       "    <tr>\n",
       "      <th>1</th>\n",
       "      <td>0</td>\n",
       "      <td>8</td>\n",
       "      <td>0</td>\n",
       "      <td>0</td>\n",
       "    </tr>\n",
       "    <tr>\n",
       "      <th>2</th>\n",
       "      <td>4</td>\n",
       "      <td>0</td>\n",
       "      <td>0</td>\n",
       "      <td>0</td>\n",
       "    </tr>\n",
       "    <tr>\n",
       "      <th>3</th>\n",
       "      <td>0</td>\n",
       "      <td>1</td>\n",
       "      <td>6</td>\n",
       "      <td>3</td>\n",
       "    </tr>\n",
       "  </tbody>\n",
       "</table>\n",
       "</div>"
      ],
      "text/plain": [
       "col_0  1  2  3  4\n",
       "row_0            \n",
       "0      0  0  1  6\n",
       "1      0  8  0  0\n",
       "2      4  0  0  0\n",
       "3      0  1  6  3"
      ]
     },
     "execution_count": 52,
     "metadata": {},
     "output_type": "execute_result"
    }
   ],
   "source": [
    "pd.crosstab(kmeans.labels_,groupes_cah)"
   ]
  },
  {
   "cell_type": "markdown",
   "metadata": {},
   "source": [
    "### Classes interpretation (PCA: Principal components analysis)"
   ]
  },
  {
   "cell_type": "markdown",
   "metadata": {},
   "source": [
    "The `ACP` have as an objective to transform correlated variables to new non correlated varibales (principal components), Thus reducing the amount of varibales resulting in less redundancy"
   ]
  },
  {
   "cell_type": "code",
   "execution_count": null,
   "metadata": {},
   "outputs": [],
   "source": [
    "from sklearn.decomposition import PCA\n",
    "acp = PCA(n_components =2).fit_transform(fromage)\n",
    "for couleur,k in zip(['red','blue','lawngreen', 'aqua'],[0,1,2,3]):\n",
    "  plt.scatter(acp[km.labels_==k,0],acp[km.labels_==k,1],c=couleur)\n",
    "plt.show()"
   ]
  },
  {
   "cell_type": "markdown",
   "metadata": {},
   "source": [
    "-> The blue group is isolated from the rest of the groups, making the nature of the clusters harder to interpret"
   ]
  },
  {
   "cell_type": "markdown",
   "metadata": {},
   "source": [
    "### Agglomerative Hierarchical Clustering (CHA) using `sklearn.cluster.AgglomerativeClustering`"
   ]
  },
  {
   "cell_type": "code",
   "execution_count": null,
   "metadata": {},
   "outputs": [],
   "source": [
    "from sklearn.cluster import AgglomerativeClustering\n",
    "np.random.seed(0)\n",
    "agg_c = AgglomerativeClustering(n_clusters=4)\n",
    "agg_c.fit(fromage)\n",
    "idk_ = np.argsort(agg_c.labels_)\n",
    "print(pd.DataFrame(fromage.index[idk_],agg_c.labels_[idk_]))"
   ]
  },
  {
   "cell_type": "code",
   "execution_count": 53,
   "metadata": {},
   "outputs": [
    {
     "data": {
      "text/html": [
       "<div>\n",
       "<style scoped>\n",
       "    .dataframe tbody tr th:only-of-type {\n",
       "        vertical-align: middle;\n",
       "    }\n",
       "\n",
       "    .dataframe tbody tr th {\n",
       "        vertical-align: top;\n",
       "    }\n",
       "\n",
       "    .dataframe thead th {\n",
       "        text-align: right;\n",
       "    }\n",
       "</style>\n",
       "<table border=\"1\" class=\"dataframe\">\n",
       "  <thead>\n",
       "    <tr style=\"text-align: right;\">\n",
       "      <th>col_0</th>\n",
       "      <th>1</th>\n",
       "      <th>2</th>\n",
       "      <th>3</th>\n",
       "      <th>4</th>\n",
       "    </tr>\n",
       "    <tr>\n",
       "      <th>row_0</th>\n",
       "      <th></th>\n",
       "      <th></th>\n",
       "      <th></th>\n",
       "      <th></th>\n",
       "    </tr>\n",
       "  </thead>\n",
       "  <tbody>\n",
       "    <tr>\n",
       "      <th>0</th>\n",
       "      <td>0</td>\n",
       "      <td>0</td>\n",
       "      <td>1</td>\n",
       "      <td>6</td>\n",
       "    </tr>\n",
       "    <tr>\n",
       "      <th>1</th>\n",
       "      <td>0</td>\n",
       "      <td>8</td>\n",
       "      <td>0</td>\n",
       "      <td>0</td>\n",
       "    </tr>\n",
       "    <tr>\n",
       "      <th>2</th>\n",
       "      <td>4</td>\n",
       "      <td>0</td>\n",
       "      <td>0</td>\n",
       "      <td>0</td>\n",
       "    </tr>\n",
       "    <tr>\n",
       "      <th>3</th>\n",
       "      <td>0</td>\n",
       "      <td>1</td>\n",
       "      <td>6</td>\n",
       "      <td>3</td>\n",
       "    </tr>\n",
       "  </tbody>\n",
       "</table>\n",
       "</div>"
      ],
      "text/plain": [
       "col_0  1  2  3  4\n",
       "row_0            \n",
       "0      0  0  1  6\n",
       "1      0  8  0  0\n",
       "2      4  0  0  0\n",
       "3      0  1  6  3"
      ]
     },
     "execution_count": 53,
     "metadata": {},
     "output_type": "execute_result"
    }
   ],
   "source": [
    "pd.crosstab(kmeans.labels_,groupes_cah)"
   ]
  },
  {
   "cell_type": "code",
   "execution_count": 55,
   "metadata": {},
   "outputs": [
    {
     "data": {
      "text/html": [
       "<div>\n",
       "<style scoped>\n",
       "    .dataframe tbody tr th:only-of-type {\n",
       "        vertical-align: middle;\n",
       "    }\n",
       "\n",
       "    .dataframe tbody tr th {\n",
       "        vertical-align: top;\n",
       "    }\n",
       "\n",
       "    .dataframe thead th {\n",
       "        text-align: right;\n",
       "    }\n",
       "</style>\n",
       "<table border=\"1\" class=\"dataframe\">\n",
       "  <thead>\n",
       "    <tr style=\"text-align: right;\">\n",
       "      <th>col_0</th>\n",
       "      <th>0</th>\n",
       "      <th>1</th>\n",
       "      <th>2</th>\n",
       "      <th>3</th>\n",
       "    </tr>\n",
       "    <tr>\n",
       "      <th>row_0</th>\n",
       "      <th></th>\n",
       "      <th></th>\n",
       "      <th></th>\n",
       "      <th></th>\n",
       "    </tr>\n",
       "  </thead>\n",
       "  <tbody>\n",
       "    <tr>\n",
       "      <th>1</th>\n",
       "      <td>0</td>\n",
       "      <td>0</td>\n",
       "      <td>0</td>\n",
       "      <td>4</td>\n",
       "    </tr>\n",
       "    <tr>\n",
       "      <th>2</th>\n",
       "      <td>9</td>\n",
       "      <td>0</td>\n",
       "      <td>0</td>\n",
       "      <td>0</td>\n",
       "    </tr>\n",
       "    <tr>\n",
       "      <th>3</th>\n",
       "      <td>0</td>\n",
       "      <td>7</td>\n",
       "      <td>0</td>\n",
       "      <td>0</td>\n",
       "    </tr>\n",
       "    <tr>\n",
       "      <th>4</th>\n",
       "      <td>0</td>\n",
       "      <td>0</td>\n",
       "      <td>9</td>\n",
       "      <td>0</td>\n",
       "    </tr>\n",
       "  </tbody>\n",
       "</table>\n",
       "</div>"
      ],
      "text/plain": [
       "col_0  0  1  2  3\n",
       "row_0            \n",
       "1      0  0  0  4\n",
       "2      9  0  0  0\n",
       "3      0  7  0  0\n",
       "4      0  0  9  0"
      ]
     },
     "execution_count": 55,
     "metadata": {},
     "output_type": "execute_result"
    }
   ],
   "source": [
    "pd.crosstab(groupes_cah,agg_c.labels_)"
   ]
  },
  {
   "cell_type": "markdown",
   "metadata": {},
   "source": [
    "Identical results retrived using `sklearn.cluster.AgglomerativeClustering` and `scipy.cluster.hierarchy` (when compared to `k-means` results)"
   ]
  },
  {
   "cell_type": "markdown",
   "metadata": {},
   "source": [
    "#### Silhouette coefficient with `sklearn.cluster.AgglomerativeClustering`"
   ]
  },
  {
   "cell_type": "code",
   "execution_count": 56,
   "metadata": {},
   "outputs": [
    {
     "name": "stdout",
     "output_type": "stream",
     "text": [
      "[0.52134151 1.         2.         3.         4.         5.\n",
      " 6.         7.         8.        ]\n",
      "[0.52134151 0.36462293 2.         3.         4.         5.\n",
      " 6.         7.         8.        ]\n",
      "[0.52134151 0.36462293 0.31556786 3.         4.         5.\n",
      " 6.         7.         8.        ]\n",
      "[0.52134151 0.36462293 0.31556786 0.29047977 4.         5.\n",
      " 6.         7.         8.        ]\n",
      "[0.52134151 0.36462293 0.31556786 0.29047977 0.26590169 5.\n",
      " 6.         7.         8.        ]\n",
      "[0.52134151 0.36462293 0.31556786 0.29047977 0.26590169 0.25366641\n",
      " 6.         7.         8.        ]\n",
      "[0.52134151 0.36462293 0.31556786 0.29047977 0.26590169 0.25366641\n",
      " 0.26811403 7.         8.        ]\n",
      "[0.52134151 0.36462293 0.31556786 0.29047977 0.26590169 0.25366641\n",
      " 0.26811403 0.26090835 8.        ]\n",
      "[0.52134151 0.36462293 0.31556786 0.29047977 0.26590169 0.25366641\n",
      " 0.26811403 0.26090835 0.25588299]\n"
     ]
    },
    {
     "data": {
      "image/png": "[encoded data removed]",
      "text/plain": [
       "<Figure size 432x288 with 1 Axes>"
      ]
     },
     "metadata": {
      "needs_background": "light"
     },
     "output_type": "display_data"
    }
   ],
   "source": [
    "from sklearn import metrics\n",
    "res=np.arange(9, dtype=\"double\")\n",
    "for k in np.arange(9):\n",
    "  agg=AgglomerativeClustering(n_clusters= k + 2)\n",
    "  agg.fit(fromage)\n",
    "  res[k]=metrics.silhouette_score(fromage,agg.labels_)\n",
    "  print(res)\n",
    "import matplotlib.pyplot as plt\n",
    "plt.title(\"silhouette\")\n",
    "plt.xlabel(\"# of clusters\")\n",
    "plt.plot(np.arange(2,11,1),(res))\n",
    "plt.show()"
   ]
  },
  {
   "cell_type": "markdown",
   "metadata": {},
   "source": [
    "### Dvisive Clusting based on `K-means`"
   ]
  },
  {
   "cell_type": "code",
   "execution_count": 57,
   "metadata": {},
   "outputs": [
    {
     "data": {
      "image/png": "[encoded data removed]",
      "text/plain": [
       "<Figure size 1800x720 with 1 Axes>"
      ]
     },
     "metadata": {
      "needs_background": "light"
     },
     "output_type": "display_data"
    }
   ],
   "source": [
    "from sklearn.cluster import KMeans\n",
    "from scipy.cluster.hierarchy import dendrogram\n",
    "\n",
    "# Z contains 'linkage'\n",
    "Z = []\n",
    "\n",
    "# Starts the algorithm\n",
    "def run(data):\n",
    "  # Initializing the global variable Z\n",
    "  global Z\n",
    "  Z = []\n",
    "  index = split(data,data)\n",
    "  fig = plt.figure(figsize=(25, 10))\n",
    "  plt.title('DC with 4 classes materialization')\n",
    "  dn = dendrogram(Z,labels=data.index, color_threshold=14000)\n",
    "\n",
    "# Returns the index of a specific line in the dataset\n",
    "def get_index(line, full_dataset):\n",
    "  indexes = np.argwhere(full_dataset.index==line.index[0])\n",
    "  return indexes[0][0]\n",
    "\n",
    "# Retourns the value of a given index in the dataset\n",
    "def get_value(index,full_dataset):\n",
    "  n = len(full_dataset)\n",
    "  if(index >= n):\n",
    "    return Z[index-n][2]\n",
    "  else:\n",
    "    return sum(full_dataset.iloc[index])\n",
    "\n",
    "# Retourns the distance between two elements\n",
    "def get_distance(index1, index2,full_dataset):\n",
    "  return get_value(index1,full_dataset) + get_value(index2,full_dataset)\n",
    "\n",
    "# Retourns the number of elements (from the original dataset) in the cluster\n",
    "def get_originals(index,full_dataset):\n",
    "  n = len(full_dataset)\n",
    "  if(index >= n):\n",
    "    return Z[index-n][3]\n",
    "  else:\n",
    "    return 1\n",
    "\n",
    "# slpit() is a recursive function allowing to divide the dataset into two groups using k-means clustering algorithm\n",
    "# the stop condition: having groups with single element\n",
    "# in each iteration, linkage is saved in Z\n",
    "def split(data, full_dataset):\n",
    "  n = len(full_dataset)\n",
    "  if len(data) < 2:\n",
    "    return get_index(data,full_dataset)\n",
    "  \n",
    "  # k-means init\n",
    "  km = KMeans(n_clusters=2)\n",
    "  km.fit(data)\n",
    "  \n",
    "  class1 = data[km.labels_==0]\n",
    "  class2 = data[km.labels_==1]\n",
    "  index1 = split(class1,full_dataset)\n",
    "  index2 = split(class2,full_dataset)\n",
    "\n",
    "\n",
    "  # Increment Z (linkage)\n",
    "  Z.append([index1, # Index group1\n",
    "            index2, # Index group2\n",
    "            get_distance(index1, index2,full_dataset), # group value\n",
    "            get_originals(index1,full_dataset)+get_originals(index2,full_dataset)]) # number of elements in the group\n",
    "  \n",
    "  # Return element index\n",
    "  return len(Z)-1+n\n",
    "\n",
    "run(fromage)"
   ]
  },
  {
   "cell_type": "code",
   "execution_count": null,
   "metadata": {},
   "outputs": [],
   "source": []
  }
 ],
 "metadata": {
  "interpreter": {
   "hash": "38cca0c38332a56087b24af0bc80247f4fced29cb4f7f437d91dc159adec9c4e"
  },
  "kernelspec": {
   "display_name": "Python 3.9.7 ('base')",
   "language": "python",
   "name": "python3"
  },
  "language_info": {
   "codemirror_mode": {
    "name": "ipython",
    "version": 3
   },
   "file_extension": ".py",
   "mimetype": "text/x-python",
   "name": "python",
   "nbconvert_exporter": "python",
   "pygments_lexer": "ipython3",
   "version": "3.9.7"
  },
  "orig_nbformat": 4
 },
 "nbformat": 4,
 "nbformat_minor": 2
}
