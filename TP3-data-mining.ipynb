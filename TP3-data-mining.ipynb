{
 "cells": [
  {
   "cell_type": "code",
   "execution_count": null,
   "id": "e2f0e6d8-4fc2-41b3-9407-dc6dfcf4d139",
   "metadata": {},
   "outputs": [],
   "source": [
    "%pip install sklearn\n",
    "%pip install matplotlib"
   ]
  },
  {
   "cell_type": "markdown",
   "id": "ef79618a-927b-40c6-9630-de4701046692",
   "metadata": {},
   "source": [
    "## Iris Dataset"
   ]
  },
  {
   "cell_type": "code",
   "execution_count": 2,
   "id": "5561780d-2756-4396-9cb8-69ffd47103bc",
   "metadata": {},
   "outputs": [
    {
     "name": "stdout",
     "output_type": "stream",
     "text": [
      "{'DESCR': '.. _iris_dataset:\\n'\n",
      "          '\\n'\n",
      "          'Iris plants dataset\\n'\n",
      "          '--------------------\\n'\n",
      "          '\\n'\n",
      "          '**Data Set Characteristics:**\\n'\n",
      "          '\\n'\n",
      "          '    :Number of Instances: 150 (50 in each of three classes)\\n'\n",
      "          '    :Number of Attributes: 4 numeric, predictive attributes and the '\n",
      "          'class\\n'\n",
      "          '    :Attribute Information:\\n'\n",
      "          '        - sepal length in cm\\n'\n",
      "          '        - sepal width in cm\\n'\n",
      "          '        - petal length in cm\\n'\n",
      "          '        - petal width in cm\\n'\n",
      "          '        - class:\\n'\n",
      "          '                - Iris-Setosa\\n'\n",
      "          '                - Iris-Versicolour\\n'\n",
      "          '                - Iris-Virginica\\n'\n",
      "          '                \\n'\n",
      "          '    :Summary Statistics:\\n'\n",
      "          '\\n'\n",
      "          '    ============== ==== ==== ======= ===== ====================\\n'\n",
      "          '                    Min  Max   Mean    SD   Class Correlation\\n'\n",
      "          '    ============== ==== ==== ======= ===== ====================\\n'\n",
      "          '    sepal length:   4.3  7.9   5.84   0.83    0.7826\\n'\n",
      "          '    sepal width:    2.0  4.4   3.05   0.43   -0.4194\\n'\n",
      "          '    petal length:   1.0  6.9   3.76   1.76    0.9490  (high!)\\n'\n",
      "          '    petal width:    0.1  2.5   1.20   0.76    0.9565  (high!)\\n'\n",
      "          '    ============== ==== ==== ======= ===== ====================\\n'\n",
      "          '\\n'\n",
      "          '    :Missing Attribute Values: None\\n'\n",
      "          '    :Class Distribution: 33.3% for each of 3 classes.\\n'\n",
      "          '    :Creator: R.A. Fisher\\n'\n",
      "          '    :Donor: Michael Marshall (MARSHALL%PLU@io.arc.nasa.gov)\\n'\n",
      "          '    :Date: July, 1988\\n'\n",
      "          '\\n'\n",
      "          'The famous Iris database, first used by Sir R.A. Fisher. The '\n",
      "          'dataset is taken\\n'\n",
      "          \"from Fisher's paper. Note that it's the same as in R, but not as in \"\n",
      "          'the UCI\\n'\n",
      "          'Machine Learning Repository, which has two wrong data points.\\n'\n",
      "          '\\n'\n",
      "          'This is perhaps the best known database to be found in the\\n'\n",
      "          \"pattern recognition literature.  Fisher's paper is a classic in the \"\n",
      "          'field and\\n'\n",
      "          'is referenced frequently to this day.  (See Duda & Hart, for '\n",
      "          'example.)  The\\n'\n",
      "          'data set contains 3 classes of 50 instances each, where each class '\n",
      "          'refers to a\\n'\n",
      "          'type of iris plant.  One class is linearly separable from the other '\n",
      "          '2; the\\n'\n",
      "          'latter are NOT linearly separable from each other.\\n'\n",
      "          '\\n'\n",
      "          '.. topic:: References\\n'\n",
      "          '\\n'\n",
      "          '   - Fisher, R.A. \"The use of multiple measurements in taxonomic '\n",
      "          'problems\"\\n'\n",
      "          '     Annual Eugenics, 7, Part II, 179-188 (1936); also in '\n",
      "          '\"Contributions to\\n'\n",
      "          '     Mathematical Statistics\" (John Wiley, NY, 1950).\\n'\n",
      "          '   - Duda, R.O., & Hart, P.E. (1973) Pattern Classification and '\n",
      "          'Scene Analysis.\\n'\n",
      "          '     (Q327.D83) John Wiley & Sons.  ISBN 0-471-22361-1.  See page '\n",
      "          '218.\\n'\n",
      "          '   - Dasarathy, B.V. (1980) \"Nosing Around the Neighborhood: A New '\n",
      "          'System\\n'\n",
      "          '     Structure and Classification Rule for Recognition in Partially '\n",
      "          'Exposed\\n'\n",
      "          '     Environments\".  IEEE Transactions on Pattern Analysis and '\n",
      "          'Machine\\n'\n",
      "          '     Intelligence, Vol. PAMI-2, No. 1, 67-71.\\n'\n",
      "          '   - Gates, G.W. (1972) \"The Reduced Nearest Neighbor Rule\".  IEEE '\n",
      "          'Transactions\\n'\n",
      "          '     on Information Theory, May 1972, 431-433.\\n'\n",
      "          '   - See also: 1988 MLC Proceedings, 54-64.  Cheeseman et al\"s '\n",
      "          'AUTOCLASS II\\n'\n",
      "          '     conceptual clustering system finds 3 classes in the data.\\n'\n",
      "          '   - Many, many more ...',\n",
      " 'data': array([[5.1, 3.5, 1.4, 0.2],\n",
      "       [4.9, 3. , 1.4, 0.2],\n",
      "       [4.7, 3.2, 1.3, 0.2],\n",
      "       [4.6, 3.1, 1.5, 0.2],\n",
      "       [5. , 3.6, 1.4, 0.2],\n",
      "       [5.4, 3.9, 1.7, 0.4],\n",
      "       [4.6, 3.4, 1.4, 0.3],\n",
      "       [5. , 3.4, 1.5, 0.2],\n",
      "       [4.4, 2.9, 1.4, 0.2],\n",
      "       [4.9, 3.1, 1.5, 0.1],\n",
      "       [5.4, 3.7, 1.5, 0.2],\n",
      "       [4.8, 3.4, 1.6, 0.2],\n",
      "       [4.8, 3. , 1.4, 0.1],\n",
      "       [4.3, 3. , 1.1, 0.1],\n",
      "       [5.8, 4. , 1.2, 0.2],\n",
      "       [5.7, 4.4, 1.5, 0.4],\n",
      "       [5.4, 3.9, 1.3, 0.4],\n",
      "       [5.1, 3.5, 1.4, 0.3],\n",
      "       [5.7, 3.8, 1.7, 0.3],\n",
      "       [5.1, 3.8, 1.5, 0.3],\n",
      "       [5.4, 3.4, 1.7, 0.2],\n",
      "       [5.1, 3.7, 1.5, 0.4],\n",
      "       [4.6, 3.6, 1. , 0.2],\n",
      "       [5.1, 3.3, 1.7, 0.5],\n",
      "       [4.8, 3.4, 1.9, 0.2],\n",
      "       [5. , 3. , 1.6, 0.2],\n",
      "       [5. , 3.4, 1.6, 0.4],\n",
      "       [5.2, 3.5, 1.5, 0.2],\n",
      "       [5.2, 3.4, 1.4, 0.2],\n",
      "       [4.7, 3.2, 1.6, 0.2],\n",
      "       [4.8, 3.1, 1.6, 0.2],\n",
      "       [5.4, 3.4, 1.5, 0.4],\n",
      "       [5.2, 4.1, 1.5, 0.1],\n",
      "       [5.5, 4.2, 1.4, 0.2],\n",
      "       [4.9, 3.1, 1.5, 0.2],\n",
      "       [5. , 3.2, 1.2, 0.2],\n",
      "       [5.5, 3.5, 1.3, 0.2],\n",
      "       [4.9, 3.6, 1.4, 0.1],\n",
      "       [4.4, 3. , 1.3, 0.2],\n",
      "       [5.1, 3.4, 1.5, 0.2],\n",
      "       [5. , 3.5, 1.3, 0.3],\n",
      "       [4.5, 2.3, 1.3, 0.3],\n",
      "       [4.4, 3.2, 1.3, 0.2],\n",
      "       [5. , 3.5, 1.6, 0.6],\n",
      "       [5.1, 3.8, 1.9, 0.4],\n",
      "       [4.8, 3. , 1.4, 0.3],\n",
      "       [5.1, 3.8, 1.6, 0.2],\n",
      "       [4.6, 3.2, 1.4, 0.2],\n",
      "       [5.3, 3.7, 1.5, 0.2],\n",
      "       [5. , 3.3, 1.4, 0.2],\n",
      "       [7. , 3.2, 4.7, 1.4],\n",
      "       [6.4, 3.2, 4.5, 1.5],\n",
      "       [6.9, 3.1, 4.9, 1.5],\n",
      "       [5.5, 2.3, 4. , 1.3],\n",
      "       [6.5, 2.8, 4.6, 1.5],\n",
      "       [5.7, 2.8, 4.5, 1.3],\n",
      "       [6.3, 3.3, 4.7, 1.6],\n",
      "       [4.9, 2.4, 3.3, 1. ],\n",
      "       [6.6, 2.9, 4.6, 1.3],\n",
      "       [5.2, 2.7, 3.9, 1.4],\n",
      "       [5. , 2. , 3.5, 1. ],\n",
      "       [5.9, 3. , 4.2, 1.5],\n",
      "       [6. , 2.2, 4. , 1. ],\n",
      "       [6.1, 2.9, 4.7, 1.4],\n",
      "       [5.6, 2.9, 3.6, 1.3],\n",
      "       [6.7, 3.1, 4.4, 1.4],\n",
      "       [5.6, 3. , 4.5, 1.5],\n",
      "       [5.8, 2.7, 4.1, 1. ],\n",
      "       [6.2, 2.2, 4.5, 1.5],\n",
      "       [5.6, 2.5, 3.9, 1.1],\n",
      "       [5.9, 3.2, 4.8, 1.8],\n",
      "       [6.1, 2.8, 4. , 1.3],\n",
      "       [6.3, 2.5, 4.9, 1.5],\n",
      "       [6.1, 2.8, 4.7, 1.2],\n",
      "       [6.4, 2.9, 4.3, 1.3],\n",
      "       [6.6, 3. , 4.4, 1.4],\n",
      "       [6.8, 2.8, 4.8, 1.4],\n",
      "       [6.7, 3. , 5. , 1.7],\n",
      "       [6. , 2.9, 4.5, 1.5],\n",
      "       [5.7, 2.6, 3.5, 1. ],\n",
      "       [5.5, 2.4, 3.8, 1.1],\n",
      "       [5.5, 2.4, 3.7, 1. ],\n",
      "       [5.8, 2.7, 3.9, 1.2],\n",
      "       [6. , 2.7, 5.1, 1.6],\n",
      "       [5.4, 3. , 4.5, 1.5],\n",
      "       [6. , 3.4, 4.5, 1.6],\n",
      "       [6.7, 3.1, 4.7, 1.5],\n",
      "       [6.3, 2.3, 4.4, 1.3],\n",
      "       [5.6, 3. , 4.1, 1.3],\n",
      "       [5.5, 2.5, 4. , 1.3],\n",
      "       [5.5, 2.6, 4.4, 1.2],\n",
      "       [6.1, 3. , 4.6, 1.4],\n",
      "       [5.8, 2.6, 4. , 1.2],\n",
      "       [5. , 2.3, 3.3, 1. ],\n",
      "       [5.6, 2.7, 4.2, 1.3],\n",
      "       [5.7, 3. , 4.2, 1.2],\n",
      "       [5.7, 2.9, 4.2, 1.3],\n",
      "       [6.2, 2.9, 4.3, 1.3],\n",
      "       [5.1, 2.5, 3. , 1.1],\n",
      "       [5.7, 2.8, 4.1, 1.3],\n",
      "       [6.3, 3.3, 6. , 2.5],\n",
      "       [5.8, 2.7, 5.1, 1.9],\n",
      "       [7.1, 3. , 5.9, 2.1],\n",
      "       [6.3, 2.9, 5.6, 1.8],\n",
      "       [6.5, 3. , 5.8, 2.2],\n",
      "       [7.6, 3. , 6.6, 2.1],\n",
      "       [4.9, 2.5, 4.5, 1.7],\n",
      "       [7.3, 2.9, 6.3, 1.8],\n",
      "       [6.7, 2.5, 5.8, 1.8],\n",
      "       [7.2, 3.6, 6.1, 2.5],\n",
      "       [6.5, 3.2, 5.1, 2. ],\n",
      "       [6.4, 2.7, 5.3, 1.9],\n",
      "       [6.8, 3. , 5.5, 2.1],\n",
      "       [5.7, 2.5, 5. , 2. ],\n",
      "       [5.8, 2.8, 5.1, 2.4],\n",
      "       [6.4, 3.2, 5.3, 2.3],\n",
      "       [6.5, 3. , 5.5, 1.8],\n",
      "       [7.7, 3.8, 6.7, 2.2],\n",
      "       [7.7, 2.6, 6.9, 2.3],\n",
      "       [6. , 2.2, 5. , 1.5],\n",
      "       [6.9, 3.2, 5.7, 2.3],\n",
      "       [5.6, 2.8, 4.9, 2. ],\n",
      "       [7.7, 2.8, 6.7, 2. ],\n",
      "       [6.3, 2.7, 4.9, 1.8],\n",
      "       [6.7, 3.3, 5.7, 2.1],\n",
      "       [7.2, 3.2, 6. , 1.8],\n",
      "       [6.2, 2.8, 4.8, 1.8],\n",
      "       [6.1, 3. , 4.9, 1.8],\n",
      "       [6.4, 2.8, 5.6, 2.1],\n",
      "       [7.2, 3. , 5.8, 1.6],\n",
      "       [7.4, 2.8, 6.1, 1.9],\n",
      "       [7.9, 3.8, 6.4, 2. ],\n",
      "       [6.4, 2.8, 5.6, 2.2],\n",
      "       [6.3, 2.8, 5.1, 1.5],\n",
      "       [6.1, 2.6, 5.6, 1.4],\n",
      "       [7.7, 3. , 6.1, 2.3],\n",
      "       [6.3, 3.4, 5.6, 2.4],\n",
      "       [6.4, 3.1, 5.5, 1.8],\n",
      "       [6. , 3. , 4.8, 1.8],\n",
      "       [6.9, 3.1, 5.4, 2.1],\n",
      "       [6.7, 3.1, 5.6, 2.4],\n",
      "       [6.9, 3.1, 5.1, 2.3],\n",
      "       [5.8, 2.7, 5.1, 1.9],\n",
      "       [6.8, 3.2, 5.9, 2.3],\n",
      "       [6.7, 3.3, 5.7, 2.5],\n",
      "       [6.7, 3. , 5.2, 2.3],\n",
      "       [6.3, 2.5, 5. , 1.9],\n",
      "       [6.5, 3. , 5.2, 2. ],\n",
      "       [6.2, 3.4, 5.4, 2.3],\n",
      "       [5.9, 3. , 5.1, 1.8]]),\n",
      " 'data_module': 'sklearn.datasets.data',\n",
      " 'feature_names': ['sepal length (cm)',\n",
      "                   'sepal width (cm)',\n",
      "                   'petal length (cm)',\n",
      "                   'petal width (cm)'],\n",
      " 'filename': 'iris.csv',\n",
      " 'frame': None,\n",
      " 'target': array([0, 0, 0, 0, 0, 0, 0, 0, 0, 0, 0, 0, 0, 0, 0, 0, 0, 0, 0, 0, 0, 0,\n",
      "       0, 0, 0, 0, 0, 0, 0, 0, 0, 0, 0, 0, 0, 0, 0, 0, 0, 0, 0, 0, 0, 0,\n",
      "       0, 0, 0, 0, 0, 0, 1, 1, 1, 1, 1, 1, 1, 1, 1, 1, 1, 1, 1, 1, 1, 1,\n",
      "       1, 1, 1, 1, 1, 1, 1, 1, 1, 1, 1, 1, 1, 1, 1, 1, 1, 1, 1, 1, 1, 1,\n",
      "       1, 1, 1, 1, 1, 1, 1, 1, 1, 1, 1, 1, 2, 2, 2, 2, 2, 2, 2, 2, 2, 2,\n",
      "       2, 2, 2, 2, 2, 2, 2, 2, 2, 2, 2, 2, 2, 2, 2, 2, 2, 2, 2, 2, 2, 2,\n",
      "       2, 2, 2, 2, 2, 2, 2, 2, 2, 2, 2, 2, 2, 2, 2, 2, 2, 2]),\n",
      " 'target_names': array(['setosa', 'versicolor', 'virginica'], dtype='<U10')}\n"
     ]
    }
   ],
   "source": [
    "from sklearn import datasets\n",
    "from pprint import pprint\n",
    "irisData = datasets.load_iris()\n",
    "pprint(irisData)"
   ]
  },
  {
   "cell_type": "code",
   "execution_count": 3,
   "id": "2752a9c1-5293-4f49-aa90-db0c9afa88cf",
   "metadata": {},
   "outputs": [
    {
     "name": "stdout",
     "output_type": "stream",
     "text": [
      "feature names: ['sepal length (cm)', 'sepal width (cm)', 'petal length (cm)', 'petal width (cm)']\n",
      "target names: ['setosa' 'versicolor' 'virginica']\n",
      "data shape: (150, 4)\n"
     ]
    }
   ],
   "source": [
    "print('feature names:',irisData.feature_names)\n",
    "print('target names:',irisData.target_names)\n",
    "print('data shape:',irisData.data.shape)"
   ]
  },
  {
   "cell_type": "markdown",
   "id": "18e60dc1-0a01-47ee-b95b-ad89f8ebaad3",
   "metadata": {},
   "source": [
    "#### How many instance in each class:"
   ]
  },
  {
   "cell_type": "code",
   "execution_count": 4,
   "id": "1383293c-e2be-401a-8a0f-8a562461e60b",
   "metadata": {},
   "outputs": [
    {
     "name": "stdout",
     "output_type": "stream",
     "text": [
      "- Number of instances in classe 0 is: \n",
      "50\n",
      "- Number of instances in classe 1 is: \n",
      "50\n",
      "- Number of instances in classe 2 is: \n",
      "50\n"
     ]
    }
   ],
   "source": [
    "for i in range(3):\n",
    "  print(\"- Number of instances in classe \" +str(i)+\" is: \" )\n",
    "  print( len(irisData.target[irisData.target==i]))"
   ]
  },
  {
   "cell_type": "markdown",
   "id": "67694df8-3876-4f3d-a202-72d5fab0af72",
   "metadata": {},
   "source": [
    "#### Classe and attributs of 32th instance:"
   ]
  },
  {
   "cell_type": "code",
   "execution_count": 5,
   "id": "1ee7d209-f395-45e0-992e-df7896c1924e",
   "metadata": {},
   "outputs": [
    {
     "name": "stdout",
     "output_type": "stream",
     "text": [
      "For instance 32: \n",
      "class: 0\n",
      "attributs [5.4 3.4 1.5 0.4]\n"
     ]
    }
   ],
   "source": [
    "print(\"For instance 32: \")\n",
    "print('class:',irisData.target[31])\n",
    "print('attributs',irisData.data[31])"
   ]
  },
  {
   "cell_type": "code",
   "execution_count": 6,
   "id": "bc5ef18c-6acf-471f-adbe-b2096c1bc60a",
   "metadata": {},
   "outputs": [
    {
     "name": "stdout",
     "output_type": "stream",
     "text": [
      "['sepal length (cm)', 'sepal width (cm)', 'petal length (cm)', 'petal width (cm)']\n"
     ]
    },
    {
     "data": {
      "image/png": "[encoded data removed]",
      "text/plain": [
       "<Figure size 432x288 with 1 Axes>"
      ]
     },
     "metadata": {
      "needs_background": "light"
     },
     "output_type": "display_data"
    }
   ],
   "source": [
    "import pylab as pl\n",
    "from itertools import cycle\n",
    "\n",
    "def plot_2D(data, target, target_names):\n",
    "  colors = cycle('rgbcmykw') # colors cycle\n",
    "  target_ids = range(len(target_names))\n",
    "  print(irisData.feature_names)\n",
    "  pl.figure()\n",
    "  for i, c, label in zip(target_ids, colors, target_names):\n",
    "    pl.scatter(data[target == i,2], data[target == i,3], c=c, label=label)\n",
    "  pl.plot([2.5,2.5],[0,2.5], c='r')\n",
    "  pl.legend()\n",
    "  pl.show()\n",
    "plot_2D(irisData.data,irisData.target,irisData.target_names)"
   ]
  },
  {
   "cell_type": "markdown",
   "id": "03fb564d-70e4-4ef1-b18b-5b9c63e922ad",
   "metadata": {},
   "source": [
    "## First Classifier Training"
   ]
  },
  {
   "cell_type": "code",
   "execution_count": 7,
   "id": "4483e3ee-8073-4e14-ab88-6a1665893ded",
   "metadata": {},
   "outputs": [
    {
     "name": "stdout",
     "output_type": "stream",
     "text": [
      "predictions on the first 31 instances:\n",
      "[0 0 0 0 0 0 0 0 0 0 0 0 0 0 0 0 0 0 0 0 0 0 0 0 0 0 0 0 0 0 0]\n",
      "real class values for the first 31 instances:\n",
      "[0 0 0 0 0 0 0 0 0 0 0 0 0 0 0 0 0 0 0 0 0 0 0 0 0 0 0 0 0 0 0]\n",
      "prediction values:\n",
      " [0 0 0 0 0 0 0 0 0 0 0 0 0 0 0 0 0 0 0 0 0 0 0 0 0 0 0 0 0 0 0 0 0 0 0 0 0\n",
      " 0 0 0 0 0 0 0 0 0 0 0 0 0 1 1 1 1 1 1 1 1 1 1 1 1 1 1 1 1 1 1 1 1 1 1 1 1\n",
      " 1 1 1 1 1 1 1 1 1 2 1 1 1 1 1 1 1 1 1 1 1 1 1 1 1 1 2 2 2 2 2 2 2 2 2 2 2\n",
      " 2 2 2 2 2 2 2 2 2 2 2 2 2 2 1 2 2 2 1 2 1 2 1 2 2 2 2 2 2 2 2 2 2 2 2 2 2\n",
      " 2]\n",
      "[0 0 0 0 0 0 0 0 0 0 0 0 0 0 0 0 0 0 0 0 0 0 0 0 0 0 0 0 0 0 0 0 0 0 0 0 0\n",
      " 0 0 0 0 0 0 0 0 0 0 0 0 0 1 1 1 1 1 1 1 1 1 1 1 1 1 1 1 1 1 1 1 1 1 1 1 1\n",
      " 1 1 1 1 1 1 1 1 1 2 1 1 1 1 1 1 1 1 1 1 1 1 1 1 1 1 2 2 2 2 2 2 2 2 2 2 2\n",
      " 2 2 2 2 2 2 2 2 2 2 2 2 2 2 1 2 2 2 1 2 1 2 1 2 2 2 2 2 2 2 2 2 2 2 2 2 2\n",
      " 2 2]\n",
      "2\n"
     ]
    },
    {
     "name": "stderr",
     "output_type": "stream",
     "text": [
      "/opt/homebrew/anaconda3/lib/python3.9/site-packages/sklearn/utils/deprecation.py:87: FutureWarning: Function plot_confusion_matrix is deprecated; Function `plot_confusion_matrix` is deprecated in 1.0 and will be removed in 1.2. Use one of the class methods: ConfusionMatrixDisplay.from_predictions or ConfusionMatrixDisplay.from_estimator.\n",
      "  warnings.warn(msg, category=FutureWarning)\n"
     ]
    },
    {
     "data": {
      "image/png": "[encoded data removed]",
      "text/plain": [
       "<Figure size 432x288 with 2 Axes>"
      ]
     },
     "metadata": {
      "needs_background": "light"
     },
     "output_type": "display_data"
    }
   ],
   "source": [
    "from sklearn import naive_bayes\n",
    "from sklearn.metrics import confusion_matrix\n",
    "from sklearn.metrics import plot_confusion_matrix\n",
    "from sklearn.metrics import accuracy_score\n",
    "import matplotlib.pyplot as plt\n",
    "\n",
    "nb = naive_bayes.MultinomialNB(fit_prior=True) # model initialization (naive_bayes model)\n",
    "nb.fit(irisData.data[:-1], irisData.target[:-1]) # model training using the isris dataset \n",
    "p31 = nb.predict(irisData.data[:31]) # model test (prediction)\n",
    "print('predictions on the first 31 instances:',p31,sep='\\n')\n",
    "print('real class values for the first 31 instances:',irisData.target[:31],sep='\\n')\n",
    "plast = nb.predict(irisData.data[:-1])\n",
    "print('prediction values:\\n',plast)\n",
    "p = nb.predict(irisData.data[:])\n",
    "print(p)\n",
    "print(irisData.target[-1])\n",
    "# The same dataset used for training is used for learning\n",
    "irisData.data[-1]\n",
    "y_pred=nb.predict(irisData.data[-1:])\n",
    "accuracy_score(irisData.target[-1:],y_pred)\n",
    "plot_confusion_matrix(nb,irisData.data[-1:], irisData.target[-1:])  \n",
    "plt.show()"
   ]
  },
  {
   "cell_type": "markdown",
   "id": "20412f6c-cf38-4f82-b6e9-ee4dc1b9761f",
   "metadata": {},
   "source": [
    "#### Second model"
   ]
  },
  {
   "cell_type": "code",
   "execution_count": 8,
   "id": "b6f3e155-530b-4a44-9ffd-34321461a508",
   "metadata": {},
   "outputs": [
    {
     "name": "stdout",
     "output_type": "stream",
     "text": [
      "Prediction results:\n",
      " [1 1 1 1 1 1 1 1 1 1 1 1 1 1 1 1 1 1 1 1 1 1 1 1 1 1 1 1 1 1 1 1 1 1 1 1 1\n",
      " 1 1 1 1 1 1 1 1 1 1 1 1]\n",
      "Actual results:\n",
      " [2 2 2 2 2 2 2 2 2 2 2 2 2 2 2 2 2 2 2 2 2 2 2 2 2 2 2 2 2 2 2 2 2 2 2 2 2\n",
      " 2 2 2 2 2 2 2 2 2 2 2 2]\n",
      "=> Values are totally inconsistent, this could be explained since during the training phase the model was never exposed to the 3rd class (with index 2)\n",
      "The model should evenly get tranined on the 3 classes instances (approximately 33 instances for each class)\n"
     ]
    }
   ],
   "source": [
    "from sklearn import naive_bayes\n",
    "\n",
    "nb = naive_bayes.MultinomialNB(fit_prior=True)\n",
    "\n",
    "nb.fit(irisData.data[:99], irisData.target[:99]) # traning dataset is 2/3 of the actual dataset\n",
    "prediction_result = nb.predict(irisData.data[100:149]) # Prediction (test) in done on the 1/3 left of the dataset\n",
    "\n",
    "print(\"Prediction results:\\n\", prediction_result)\n",
    "print(\"Actual results:\\n\", irisData.target[100:149])\n",
    "print('=> Values are totally inconsistent, this could be explained since during the training phase the model was never exposed to the 3rd class (with index 2)')\n",
    "print('The model should evenly get tranined on the 3 classes instances (approximately 33 instances for each class)')"
   ]
  },
  {
   "cell_type": "markdown",
   "id": "560ef8f2-ae99-4774-b704-0e123c73d03e",
   "metadata": {},
   "source": [
    "## Classifier performance test"
   ]
  },
  {
   "cell_type": "code",
   "execution_count": 9,
   "id": "3b206a88-09d7-4c5d-961b-f1883081e7fc",
   "metadata": {},
   "outputs": [
    {
     "name": "stdout",
     "output_type": "stream",
     "text": [
      "Training error is calculated through counting the different values between the real class values and the predicted one given the training set\n",
      "Error using sum function : 0.04666666666666667\n",
      "Error using numpy : 0.04666666666666667 ( 4.7 %)\n",
      "Accuracy :  0.9533333333333334 (  95.3  %)\n",
      "Instances in which the model failed (flase prediction)\n",
      " [68, 70, 72, 83, 129, 131, 133]\n",
      "-  [6.2 2.2 4.5 1.5] \t Real class: 1 \t predicted value 2\n",
      "-  [5.9 3.2 4.8 1.8] \t Real class: 1 \t predicted value 2\n",
      "-  [6.3 2.5 4.9 1.5] \t Real class: 1 \t predicted value 2\n",
      "-  [6.  2.7 5.1 1.6] \t Real class: 1 \t predicted value 2\n",
      "-  [7.2 3.  5.8 1.6] \t Real class: 2 \t predicted value 1\n",
      "-  [7.9 3.8 6.4 2. ] \t Real class: 2 \t predicted value 1\n",
      "-  [6.3 2.8 5.1 1.5] \t Real class: 2 \t predicted value 1\n"
     ]
    }
   ],
   "source": [
    "import numpy as np\n",
    "# Training error is calculated through counting the different values between the real class values and the predicted one given the training set\n",
    "nb.fit(irisData.data[:], irisData.target[:])\n",
    "P = nb.predict(irisData.data[:])\n",
    "Y = irisData.target\n",
    "err_instances=[]\n",
    "ea = 0\n",
    "for i in range(len(irisData.data)):\n",
    "  if (P[i] != Y[i]):\n",
    "    err_instances.append(i)\n",
    "    ea = ea+1\n",
    "print('Training error is calculated through counting the different values between the real class values and the predicted one given the training set')\n",
    "print(\"Error using sum function :\",ea/len(irisData.data))\n",
    "# non null values represent the falsy predicted values (errors)\n",
    "print(\"Error using numpy :\",np.count_nonzero(P-Y)/len(irisData.data),'(',\"{:.1f}\".format(((np.count_nonzero(P-Y)/len(irisData.data))*100)) ,'%)')\n",
    "\n",
    "print(\"Accuracy : \",nb.score(irisData.data,Y),\"( \",\"{:.1f}\".format(nb.score(irisData.data,Y)*100),\" %)\")\n",
    "print('Instances in which the model failed (flase prediction)\\n',err_instances)\n",
    "for i in err_instances:\n",
    "    print('- ',irisData.data[i],'\\t Real class:',Y[i],'\\t predicted value',P[i])"
   ]
  },
  {
   "cell_type": "markdown",
   "id": "30d13a2d-2c6b-4531-a7c1-8948ecee7b71",
   "metadata": {},
   "source": [
    "### Classifier performances generalized"
   ]
  },
  {
   "cell_type": "code",
   "execution_count": 10,
   "id": "8064ac42-c2fa-4c36-bc7f-738def47d814",
   "metadata": {},
   "outputs": [
    {
     "data": {
      "text/plain": [
       "[array([[6.2, 2.9, 4.3, 1.3],\n",
       "        [6.3, 2.3, 4.4, 1.3],\n",
       "        [6.3, 3.3, 4.7, 1.6],\n",
       "        [5.4, 3.4, 1.7, 0.2],\n",
       "        [6. , 2.9, 4.5, 1.5],\n",
       "        [5.1, 3.3, 1.7, 0.5],\n",
       "        [6.3, 2.5, 4.9, 1.5],\n",
       "        [5.8, 2.7, 5.1, 1.9],\n",
       "        [5.5, 2.4, 3.7, 1. ],\n",
       "        [5.2, 3.4, 1.4, 0.2],\n",
       "        [6.3, 2.5, 5. , 1.9],\n",
       "        [6.9, 3.1, 5.4, 2.1],\n",
       "        [6.4, 3.2, 4.5, 1.5],\n",
       "        [4.8, 3. , 1.4, 0.3],\n",
       "        [6.1, 2.6, 5.6, 1.4],\n",
       "        [6.3, 2.9, 5.6, 1.8],\n",
       "        [5. , 2.3, 3.3, 1. ],\n",
       "        [5.9, 3. , 4.2, 1.5],\n",
       "        [5.1, 3.5, 1.4, 0.2],\n",
       "        [6.6, 2.9, 4.6, 1.3],\n",
       "        [5.1, 3.5, 1.4, 0.3],\n",
       "        [6.1, 3. , 4.6, 1.4],\n",
       "        [5.2, 3.5, 1.5, 0.2],\n",
       "        [6. , 3.4, 4.5, 1.6],\n",
       "        [5. , 3.5, 1.6, 0.6],\n",
       "        [6.1, 3. , 4.9, 1.8],\n",
       "        [4.4, 3.2, 1.3, 0.2],\n",
       "        [5. , 3.5, 1.3, 0.3],\n",
       "        [5.5, 2.4, 3.8, 1.1],\n",
       "        [5. , 3.3, 1.4, 0.2],\n",
       "        [6.9, 3.2, 5.7, 2.3],\n",
       "        [6.3, 2.8, 5.1, 1.5],\n",
       "        [7. , 3.2, 4.7, 1.4],\n",
       "        [5.6, 2.5, 3.9, 1.1],\n",
       "        [7.6, 3. , 6.6, 2.1],\n",
       "        [6.4, 3.2, 5.3, 2.3],\n",
       "        [6.3, 3.4, 5.6, 2.4],\n",
       "        [5. , 3.4, 1.5, 0.2],\n",
       "        [5.4, 3.7, 1.5, 0.2],\n",
       "        [4.9, 3.1, 1.5, 0.1],\n",
       "        [6.7, 3.1, 4.7, 1.5],\n",
       "        [7.7, 3.8, 6.7, 2.2],\n",
       "        [6.4, 2.9, 4.3, 1.3],\n",
       "        [5.5, 2.5, 4. , 1.3],\n",
       "        [7.7, 3. , 6.1, 2.3],\n",
       "        [7.2, 3.2, 6. , 1.8],\n",
       "        [6.4, 2.8, 5.6, 2.1],\n",
       "        [7.3, 2.9, 6.3, 1.8],\n",
       "        [5.5, 2.3, 4. , 1.3],\n",
       "        [5.8, 2.7, 4.1, 1. ],\n",
       "        [6.5, 3. , 5.2, 2. ],\n",
       "        [5.2, 2.7, 3.9, 1.4],\n",
       "        [6. , 2.2, 5. , 1.5],\n",
       "        [6. , 2.7, 5.1, 1.6],\n",
       "        [7.4, 2.8, 6.1, 1.9],\n",
       "        [6.2, 3.4, 5.4, 2.3],\n",
       "        [5.7, 3. , 4.2, 1.2],\n",
       "        [5.6, 2.8, 4.9, 2. ],\n",
       "        [4.9, 3. , 1.4, 0.2],\n",
       "        [5.3, 3.7, 1.5, 0.2],\n",
       "        [4.5, 2.3, 1.3, 0.3],\n",
       "        [6.7, 3.1, 5.6, 2.4],\n",
       "        [6.7, 3.3, 5.7, 2.1],\n",
       "        [4.7, 3.2, 1.3, 0.2],\n",
       "        [5.6, 3. , 4.1, 1.3],\n",
       "        [6.7, 3.3, 5.7, 2.5],\n",
       "        [4.9, 2.5, 4.5, 1.7],\n",
       "        [4.8, 3.1, 1.6, 0.2],\n",
       "        [4.9, 3.6, 1.4, 0.1],\n",
       "        [5.6, 2.9, 3.6, 1.3],\n",
       "        [5.6, 2.7, 4.2, 1.3],\n",
       "        [6.2, 2.2, 4.5, 1.5],\n",
       "        [5.1, 3.8, 1.9, 0.4],\n",
       "        [4.9, 3.1, 1.5, 0.2],\n",
       "        [6.7, 2.5, 5.8, 1.8],\n",
       "        [6.3, 2.7, 4.9, 1.8],\n",
       "        [6.8, 2.8, 4.8, 1.4],\n",
       "        [6.5, 3.2, 5.1, 2. ],\n",
       "        [6.7, 3. , 5.2, 2.3],\n",
       "        [5.7, 2.9, 4.2, 1.3],\n",
       "        [6.7, 3. , 5. , 1.7],\n",
       "        [5.7, 3.8, 1.7, 0.3],\n",
       "        [5.8, 2.7, 5.1, 1.9],\n",
       "        [6.7, 3.1, 4.4, 1.4],\n",
       "        [6.9, 3.1, 4.9, 1.5],\n",
       "        [5.6, 3. , 4.5, 1.5],\n",
       "        [5.1, 3.4, 1.5, 0.2],\n",
       "        [6. , 3. , 4.8, 1.8],\n",
       "        [4.8, 3. , 1.4, 0.1],\n",
       "        [4.9, 2.4, 3.3, 1. ],\n",
       "        [7.2, 3. , 5.8, 1.6],\n",
       "        [7.9, 3.8, 6.4, 2. ],\n",
       "        [4.4, 3. , 1.3, 0.2],\n",
       "        [5.7, 4.4, 1.5, 0.4],\n",
       "        [6.1, 2.9, 4.7, 1.4],\n",
       "        [4.6, 3.6, 1. , 0.2],\n",
       "        [6.1, 2.8, 4. , 1.3],\n",
       "        [5. , 3. , 1.6, 0.2],\n",
       "        [6.5, 3. , 5.5, 1.8],\n",
       "        [4.3, 3. , 1.1, 0.1]]),\n",
       " array([1, 1, 1, 0, 1, 0, 1, 2, 1, 0, 2, 2, 1, 0, 2, 2, 1, 1, 0, 1, 0, 1,\n",
       "        0, 1, 0, 2, 0, 0, 1, 0, 2, 2, 1, 1, 2, 2, 2, 0, 0, 0, 1, 2, 1, 1,\n",
       "        2, 2, 2, 2, 1, 1, 2, 1, 2, 1, 2, 2, 1, 2, 0, 0, 0, 2, 2, 0, 1, 2,\n",
       "        2, 0, 0, 1, 1, 1, 0, 0, 2, 2, 1, 2, 2, 1, 1, 0, 2, 1, 1, 1, 0, 2,\n",
       "        0, 1, 2, 2, 0, 0, 1, 0, 1, 0, 2, 0]),\n",
       " array([[5.9, 3.2, 4.8, 1.8],\n",
       "        [7.2, 3.6, 6.1, 2.5],\n",
       "        [5.8, 2.7, 3.9, 1.2],\n",
       "        [5.1, 3.8, 1.6, 0.2],\n",
       "        [5.7, 2.5, 5. , 2. ],\n",
       "        [4.8, 3.4, 1.9, 0.2],\n",
       "        [5.1, 3.7, 1.5, 0.4],\n",
       "        [5.9, 3. , 5.1, 1.8],\n",
       "        [6.4, 2.8, 5.6, 2.2],\n",
       "        [5.7, 2.8, 4.5, 1.3],\n",
       "        [5.4, 3.9, 1.3, 0.4],\n",
       "        [6.2, 2.8, 4.8, 1.8],\n",
       "        [7.7, 2.8, 6.7, 2. ],\n",
       "        [5.4, 3. , 4.5, 1.5],\n",
       "        [6.6, 3. , 4.4, 1.4],\n",
       "        [5.5, 2.6, 4.4, 1.2],\n",
       "        [4.6, 3.1, 1.5, 0.2],\n",
       "        [5.1, 2.5, 3. , 1.1],\n",
       "        [5.5, 4.2, 1.4, 0.2],\n",
       "        [7.1, 3. , 5.9, 2.1],\n",
       "        [5.4, 3.9, 1.7, 0.4],\n",
       "        [5.5, 3.5, 1.3, 0.2],\n",
       "        [6. , 2.2, 4. , 1. ],\n",
       "        [6.1, 2.8, 4.7, 1.2],\n",
       "        [5.8, 2.8, 5.1, 2.4],\n",
       "        [5.8, 2.6, 4. , 1.2],\n",
       "        [4.4, 2.9, 1.4, 0.2],\n",
       "        [4.6, 3.2, 1.4, 0.2],\n",
       "        [6.5, 3. , 5.8, 2.2],\n",
       "        [5. , 3.4, 1.6, 0.4],\n",
       "        [5. , 2. , 3.5, 1. ],\n",
       "        [5.7, 2.8, 4.1, 1.3],\n",
       "        [7.7, 2.6, 6.9, 2.3],\n",
       "        [5.7, 2.6, 3.5, 1. ],\n",
       "        [4.6, 3.4, 1.4, 0.3],\n",
       "        [6.3, 3.3, 6. , 2.5],\n",
       "        [5.8, 4. , 1.2, 0.2],\n",
       "        [6.5, 2.8, 4.6, 1.5],\n",
       "        [6.9, 3.1, 5.1, 2.3],\n",
       "        [5.4, 3.4, 1.5, 0.4],\n",
       "        [5. , 3.6, 1.4, 0.2],\n",
       "        [6.4, 2.7, 5.3, 1.9],\n",
       "        [6.4, 3.1, 5.5, 1.8],\n",
       "        [5.1, 3.8, 1.5, 0.3],\n",
       "        [5. , 3.2, 1.2, 0.2],\n",
       "        [6.8, 3.2, 5.9, 2.3],\n",
       "        [5.2, 4.1, 1.5, 0.1],\n",
       "        [4.8, 3.4, 1.6, 0.2],\n",
       "        [6.8, 3. , 5.5, 2.1],\n",
       "        [4.7, 3.2, 1.6, 0.2]]),\n",
       " array([1, 2, 1, 0, 2, 0, 0, 2, 2, 1, 0, 2, 2, 1, 1, 1, 0, 1, 0, 2, 0, 0,\n",
       "        1, 1, 2, 1, 0, 0, 2, 0, 1, 1, 2, 1, 0, 2, 0, 1, 2, 0, 0, 2, 2, 0,\n",
       "        0, 2, 0, 0, 2, 0])]"
      ]
     },
     "execution_count": 10,
     "metadata": {},
     "output_type": "execute_result"
    }
   ],
   "source": [
    "import numpy as np\n",
    "def split(S):\n",
    "    \"\"\" given a dataset, it will divide into into 2 thirds and one third (dataset already shuffeled) \"\"\" \n",
    "    number_instances = len(S.data) \n",
    "    indexes= np.arange(number_instances)\n",
    "    np.random.shuffle(indexes) # indexes are shuffled\n",
    "    training_indexes, test_indexes = indexes[:round(number_instances * (2/3))], indexes[round(number_instances * (2/3)):]\n",
    "    train_data = list(filter(lambda i: i in training_indexes,training_indexes))\n",
    "    test_data = list(filter(lambda i: i in test_indexes,test_indexes))\n",
    "    dataS1 = np.array(list(map(lambda i: S.data[i].tolist(),train_data)))\n",
    "    targetS1 = np.array(list(map(lambda i: S.target[i].tolist(),train_data)))\n",
    "    dataS2 = np.array(list(map(lambda i: S.data[i].tolist(),test_data)))\n",
    "    targetS2 = np.array(list(map(lambda i: S.target[i].tolist(),test_data)))\n",
    "    return [dataS1,targetS1,dataS2,targetS2]\n",
    "    \n",
    "    \n",
    "split(irisData)"
   ]
  },
  {
   "cell_type": "code",
   "execution_count": 11,
   "id": "2c220db2-4bbd-4d09-8d38-3ef5dcc408da",
   "metadata": {},
   "outputs": [
    {
     "name": "stdout",
     "output_type": "stream",
     "text": [
      "For Multiple training,test sets:\n",
      "- Training error: 0.14 ( 14.0 %)\n",
      "- Training error: 0.42000000000000004 ( 42.0 %)\n",
      "- Training error: 0.19999999999999996 ( 20.0 %)\n",
      "- Training error: 0.040000000000000036 ( 4.0 %)\n",
      "- Training error: 0.19999999999999996 ( 20.0 %)\n",
      "=> Depending on the training/test set, the retrived error is smaller/bigger compared to the error retrived when the test is done on the same train dataset\n"
     ]
    }
   ],
   "source": [
    "from sklearn import naive_bayes\n",
    "\n",
    "def training_error(clf,train_data,target):\n",
    "    ea=1-clf.score(np.array(train_data),np.array(target))\n",
    "    return ea\n",
    "    \n",
    "\n",
    "def test(S, clf):\n",
    "    [dataS1, targetS1, dataS2, targetS2] = split(S)\n",
    "    clf.fit(dataS1,targetS1)\n",
    "    return training_error(clf,dataS2,targetS2)\n",
    "\n",
    "print('For Multiple training,test sets:')\n",
    "for i in range(5):\n",
    "    error = test(irisData,naive_bayes.MultinomialNB(fit_prior=True))\n",
    "    print('- Training error:', error ,'(',\"{:.1f}\".format(error*100),'%)')\n",
    "\n",
    "print('=> Depending on the training/test set, the retrived error is smaller/bigger compared to the error retrived when the test is done on the same train dataset')"
   ]
  },
  {
   "cell_type": "code",
   "execution_count": 12,
   "id": "8d382778-7270-48d4-8140-c7166b0bd9f1",
   "metadata": {},
   "outputs": [
    {
     "name": "stdout",
     "output_type": "stream",
     "text": [
      "t = 10 | moyenne = 0.162\n",
      "t = 50 | moyenne = 0.23920000000000002\n",
      "t = 100 | moyenne = 0.18859999999999993\n",
      "t = 200 | moyenne = 0.20980000000000001\n",
      "t = 500 | moyenne = 0.20572000000000001\n",
      "t = 1000 | moyenne = 0.19930000000000042\n"
     ]
    }
   ],
   "source": [
    "def repeated_test(S,nb, t):\n",
    "  result = 0\n",
    "  for i in range(t):\n",
    "    result += test(S,nb)\n",
    "  return result / t\n",
    "\n",
    "S,nb = irisData, naive_bayes.MultinomialNB(fit_prior=True)\n",
    "\n",
    "for t in [10,50,100,200,500,1000]:\n",
    "  print(f\"t = {t} | moyenne = {repeated_test(S,nb, t)}\")"
   ]
  },
  {
   "cell_type": "code",
   "execution_count": 13,
   "id": "2d89970e-e733-429e-a24e-3394554ff82f",
   "metadata": {},
   "outputs": [
    {
     "name": "stdout",
     "output_type": "stream",
     "text": [
      "t = 10 | 20 fois | moyenne = 0.1849\n",
      "t = 50 | 20 fois | moyenne = 0.20032\n",
      "t = 100 | 20 fois | moyenne = 0.20633999999999997\n",
      "t = 200 | 20 fois | moyenne = 0.19881999999999997\n",
      "t = 500 | 20 fois | moyenne = 0.1991100000000002\n",
      "t = 1000 | 20 fois | moyenne = 0.20112900000000017\n",
      "- Training error is stable\n",
      "The larger the training set, the more the mean rate of training error is converging to the rate of real error\n"
     ]
    }
   ],
   "source": [
    "for t in [10,50,100,200,500,1000]:\n",
    "  moy = 0\n",
    "  for i in range(20):\n",
    "    moy += repeated_test(S,nb, t)\n",
    "  print(f\"t = {t} | 20 fois | moyenne = {moy/20}\")\n",
    "\n",
    "print('- Training error is stable')\n",
    "print('The larger the training set, the more the mean rate of training error is converging to the rate of real error')"
   ]
  },
  {
   "cell_type": "code",
   "execution_count": 14,
   "id": "532a434f-5b65-4547-8002-664b1d9df960",
   "metadata": {},
   "outputs": [
    {
     "name": "stdout",
     "output_type": "stream",
     "text": [
      "- Training error for a training set of size  0.1 :  0.19999999999999996\n",
      "- Training error for a training set of size  0.25 :  0.07894736842105265\n",
      "- Training error for a training set of size  0.33 :  0.07999999999999996\n",
      "- Training error for a training set of size  0.5 :  0.16000000000000003\n"
     ]
    }
   ],
   "source": [
    "from sklearn.model_selection import train_test_split\n",
    "sizes=[0.1,0.25,0.33,0.5]\n",
    "for test_size in sizes:\n",
    "  X_train, X_test, y_train, y_test = train_test_split( irisData.data,irisData.target,test_size=test_size)\n",
    "  nb.fit(X_train,y_train)\n",
    "  y_pred=nb.predict(X_test)\n",
    "  print(\"- Training error for a training set of size \", test_size,\": \",training_error(nb,X_test,y_test))"
   ]
  },
  {
   "cell_type": "markdown",
   "id": "1566bbe8-9169-43f9-a022-dbbe8247e937",
   "metadata": {},
   "source": [
    "#### Error estimation through cross-validation"
   ]
  },
  {
   "cell_type": "code",
   "execution_count": 24,
   "id": "1eb5d084-1a15-4f91-9dae-3a6a16c4eced",
   "metadata": {},
   "outputs": [
    {
     "name": "stdout",
     "output_type": "stream",
     "text": [
      "* for 2 folds, score: [0.96       0.94666667] ,\t error: [0.04       0.05333333]\n",
      "------------------------------------------------------------------------------------------------------------------\n",
      "* for 3 folds, score: [0.96 0.92 0.96] ,\t error: [0.04 0.08 0.04]\n",
      "------------------------------------------------------------------------------------------------------------------\n",
      "* for 5 folds, score: [1.         0.96666667 0.9        0.9        1.        ] ,\t error: [0.         0.03333333 0.1        0.1        0.        ]\n",
      "------------------------------------------------------------------------------------------------------------------\n",
      "* for 8 folds, score: [1.         1.         0.94736842 0.89473684 0.89473684 0.84210526\n",
      " 1.         1.        ] ,\t error: [0.         0.         0.05263158 0.10526316 0.10526316 0.15789474\n",
      " 0.         0.        ]\n",
      "------------------------------------------------------------------------------------------------------------------\n"
     ]
    }
   ],
   "source": [
    "from sklearn.model_selection import cross_val_score\n",
    "from pprint import pprint\n",
    "folds=[2,3,5,8]\n",
    "for i in folds:\n",
    "  cross_validation_score = cross_val_score(nb,irisData.data,irisData.target,cv=i)\n",
    "  print('* for',i,'folds,','score:',cross_validation_score,',\\t error:',1-cross_validation_score)\n",
    "  print('------------------------------------------------------------------------------------------------------------------')\n"
   ]
  },
  {
   "cell_type": "markdown",
   "id": "67184278-7d11-4985-99fd-e8dea7054251",
   "metadata": {},
   "source": [
    "Using a DecisionTreeClassifier:"
   ]
  },
  {
   "cell_type": "code",
   "execution_count": 16,
   "id": "052a7196-a308-426a-b03c-03ee9b468189",
   "metadata": {},
   "outputs": [
    {
     "name": "stdout",
     "output_type": "stream",
     "text": [
      "Training error using the Decision tree classifier 0.020000000000000018\n"
     ]
    }
   ],
   "source": [
    "from sklearn import tree\n",
    "X, y = irisData.data, irisData.target\n",
    "arb = tree.DecisionTreeClassifier()\n",
    "print('Training error using the Decision tree classifier',test(irisData,arb))"
   ]
  },
  {
   "cell_type": "markdown",
   "id": "834de9f4-34d3-432e-a2bc-d044cf2a289c",
   "metadata": {},
   "source": [
    "- The traning error metric is used to reflect the model accuracy\n",
    "- This could be useful depending on the context, an help determine the best model\n",
    "- In other use cases, precision or recall could be more important to determine the best model (situations in which the False Positive or False Negative should be minimal)"
   ]
  }
 ],
 "metadata": {
  "kernelspec": {
   "display_name": "Python 3 (ipykernel)",
   "language": "python",
   "name": "python3"
  },
  "language_info": {
   "codemirror_mode": {
    "name": "ipython",
    "version": 3
   },
   "file_extension": ".py",
   "mimetype": "text/x-python",
   "name": "python",
   "nbconvert_exporter": "python",
   "pygments_lexer": "ipython3",
   "version": "3.9.7"
  }
 },
 "nbformat": 4,
 "nbformat_minor": 5
}
